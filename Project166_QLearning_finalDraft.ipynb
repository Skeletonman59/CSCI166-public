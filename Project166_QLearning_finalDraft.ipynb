{
  "nbformat": 4,
  "nbformat_minor": 0,
  "metadata": {
    "colab": {
      "provenance": [],
      "gpuType": "T4",
      "collapsed_sections": [
        "sm5AvXLsx8pp"
      ],
      "authorship_tag": "ABX9TyO0QWRcE06uCKxx6bnw7NyG",
      "include_colab_link": true
    },
    "kernelspec": {
      "name": "python3",
      "display_name": "Python 3"
    },
    "language_info": {
      "name": "python"
    }
  },
  "cells": [
    {
      "cell_type": "markdown",
      "metadata": {
        "id": "view-in-github",
        "colab_type": "text"
      },
      "source": [
        "<a href=\"https://colab.research.google.com/github/Skeletonman59/CSCI166-public/blob/main/Project166_QLearning_finalDraft.ipynb\" target=\"_parent\"><img src=\"https://colab.research.google.com/assets/colab-badge.svg\" alt=\"Open In Colab\"/></a>"
      ]
    },
    {
      "cell_type": "markdown",
      "source": [
        "# TaxiDriver\n",
        "\n",
        "## How is the Code meant to run?\n",
        "\n",
        "The interesting stuff is in \"Q-Learning, with updated Gymnasium\".\n",
        "Run all blocks until you reach the hyperparameter blocks.\n",
        "\n",
        "Steps:\n",
        "First, install, import, and run all functions.\n",
        "\n",
        "1.   Run a Hyperparameter block\n",
        "2.   Run the Q_learning function block\n",
        "3.   (Optional) Run the testing function to display the TaxiDriver display.\n",
        "4.   Run the plot code block to see our data in a graph.\n",
        "5.   Repeat steps above, with different hyperparameters\n",
        "\n"
      ],
      "metadata": {
        "id": "NmxJO-S_dIJQ"
      }
    },
    {
      "cell_type": "markdown",
      "source": [
        "## Code inspired from Frozen Lake Q-Learning assignment\n",
        "\n",
        "Doesn't really provide useful information, skip to \"Q-Learning, with updated Gymnasium\""
      ],
      "metadata": {
        "id": "sm5AvXLsx8pp"
      }
    },
    {
      "cell_type": "code",
      "source": [
        "!pip install gymnasium\n",
        "!pip install swig\n",
        "!pip install \"gymnasium[box2d]\""
      ],
      "metadata": {
        "colab": {
          "base_uri": "https://localhost:8080/"
        },
        "id": "ttgGi-g0Ef_k",
        "outputId": "8ab64215-5d5e-41f7-d98a-df832c98609a"
      },
      "execution_count": null,
      "outputs": [
        {
          "output_type": "stream",
          "name": "stdout",
          "text": [
            "Requirement already satisfied: gymnasium in /usr/local/lib/python3.10/dist-packages (1.0.0)\n",
            "Requirement already satisfied: numpy>=1.21.0 in /usr/local/lib/python3.10/dist-packages (from gymnasium) (1.26.4)\n",
            "Requirement already satisfied: cloudpickle>=1.2.0 in /usr/local/lib/python3.10/dist-packages (from gymnasium) (3.1.0)\n",
            "Requirement already satisfied: typing-extensions>=4.3.0 in /usr/local/lib/python3.10/dist-packages (from gymnasium) (4.12.2)\n",
            "Requirement already satisfied: farama-notifications>=0.0.1 in /usr/local/lib/python3.10/dist-packages (from gymnasium) (0.0.4)\n",
            "\u001b[31mERROR: Operation cancelled by user\u001b[0m\u001b[31m\n",
            "\u001b[0mTraceback (most recent call last):\n",
            "  File \"/usr/local/lib/python3.10/dist-packages/pip/_vendor/pkg_resources/__init__.py\", line 3070, in _dep_map\n",
            "    return self.__dep_map\n",
            "  File \"/usr/local/lib/python3.10/dist-packages/pip/_vendor/pkg_resources/__init__.py\", line 2863, in __getattr__\n",
            "    raise AttributeError(attr)\n",
            "AttributeError: _DistInfoDistribution__dep_map\n",
            "\n",
            "During handling of the above exception, another exception occurred:\n",
            "\n",
            "Traceback (most recent call last):\n",
            "  File \"/usr/local/lib/python3.10/dist-packages/pip/_internal/cli/base_command.py\", line 179, in exc_logging_wrapper\n",
            "    status = run_func(*args)\n",
            "  File \"/usr/local/lib/python3.10/dist-packages/pip/_internal/cli/req_command.py\", line 67, in wrapper\n",
            "    return func(self, options, args)\n",
            "  File \"/usr/local/lib/python3.10/dist-packages/pip/_internal/commands/install.py\", line 447, in run\n",
            "    conflicts = self._determine_conflicts(to_install)\n",
            "  File \"/usr/local/lib/python3.10/dist-packages/pip/_internal/commands/install.py\", line 578, in _determine_conflicts\n",
            "    return check_install_conflicts(to_install)\n",
            "  File \"/usr/local/lib/python3.10/dist-packages/pip/_internal/operations/check.py\", line 101, in check_install_conflicts\n",
            "    package_set, _ = create_package_set_from_installed()\n",
            "  File \"/usr/local/lib/python3.10/dist-packages/pip/_internal/operations/check.py\", line 42, in create_package_set_from_installed\n",
            "    dependencies = list(dist.iter_dependencies())\n",
            "  File \"/usr/local/lib/python3.10/dist-packages/pip/_internal/metadata/pkg_resources.py\", line 247, in iter_dependencies\n",
            "    return self._dist.requires(extras)\n",
            "  File \"/usr/local/lib/python3.10/dist-packages/pip/_vendor/pkg_resources/__init__.py\", line 2786, in requires\n",
            "    dm = self._dep_map\n",
            "  File \"/usr/local/lib/python3.10/dist-packages/pip/_vendor/pkg_resources/__init__.py\", line 3072, in _dep_map\n",
            "    self.__dep_map = self._compute_dependencies()\n",
            "  File \"/usr/local/lib/python3.10/dist-packages/pip/_vendor/pkg_resources/__init__.py\", line 3082, in _compute_dependencies\n",
            "    reqs.extend(parse_requirements(req))\n",
            "  File \"/usr/local/lib/python3.10/dist-packages/pip/_vendor/pkg_resources/__init__.py\", line 3135, in __init__\n",
            "    super().__init__(requirement_string)\n",
            "  File \"/usr/local/lib/python3.10/dist-packages/pip/_vendor/packaging/requirements.py\", line 42, in __init__\n",
            "    self.extras: set[str] = set(parsed.extras or [])\n",
            "KeyboardInterrupt\n",
            "\n",
            "During handling of the above exception, another exception occurred:\n",
            "\n",
            "Traceback (most recent call last):\n",
            "  File \"/usr/local/bin/pip3\", line 8, in <module>\n",
            "    sys.exit(main())\n",
            "  File \"/usr/local/lib/python3.10/dist-packages/pip/_internal/cli/main.py\", line 80, in main\n",
            "    return command.main(cmd_args)\n",
            "  File \"/usr/local/lib/python3.10/dist-packages/pip/_internal/cli/base_command.py\", line 100, in main\n",
            "    return self._main(args)\n",
            "  File \"/usr/local/lib/python3.10/dist-packages/pip/_internal/cli/base_command.py\", line 232, in _main\n",
            "    return run(options, args)\n",
            "  File \"/usr/local/lib/python3.10/dist-packages/pip/_internal/cli/base_command.py\", line 215, in exc_logging_wrapper\n",
            "    logger.critical(\"Operation cancelled by user\")\n",
            "  File \"/usr/lib/python3.10/logging/__init__.py\", line 1524, in critical\n",
            "    self._log(CRITICAL, msg, args, **kwargs)\n",
            "  File \"/usr/lib/python3.10/logging/__init__.py\", line 1624, in _log\n",
            "    self.handle(record)\n",
            "  File \"/usr/lib/python3.10/logging/__init__.py\", line 1634, in handle\n",
            "    self.callHandlers(record)\n",
            "  File \"/usr/lib/python3.10/logging/__init__.py\", line 1696, in callHandlers\n",
            "    hdlr.handle(record)\n",
            "  File \"/usr/lib/python3.10/logging/__init__.py\", line 968, in handle\n",
            "    self.emit(record)\n",
            "  File \"/usr/lib/python3.10/logging/handlers.py\", line 75, in emit\n",
            "    logging.FileHandler.emit(self, record)\n",
            "  File \"/usr/lib/python3.10/logging/__init__.py\", line 1204, in emit\n",
            "    def emit(self, record):\n",
            "KeyboardInterrupt\n",
            "^C\n",
            "Requirement already satisfied: swig in /usr/local/lib/python3.10/dist-packages (4.3.0)\n",
            "Requirement already satisfied: gymnasium[box2d] in /usr/local/lib/python3.10/dist-packages (1.0.0)\n",
            "Requirement already satisfied: numpy>=1.21.0 in /usr/local/lib/python3.10/dist-packages (from gymnasium[box2d]) (1.26.4)\n",
            "Requirement already satisfied: cloudpickle>=1.2.0 in /usr/local/lib/python3.10/dist-packages (from gymnasium[box2d]) (3.1.0)\n",
            "Requirement already satisfied: typing-extensions>=4.3.0 in /usr/local/lib/python3.10/dist-packages (from gymnasium[box2d]) (4.12.2)\n",
            "Requirement already satisfied: farama-notifications>=0.0.1 in /usr/local/lib/python3.10/dist-packages (from gymnasium[box2d]) (0.0.4)\n",
            "Requirement already satisfied: box2d-py==2.3.5 in /usr/local/lib/python3.10/dist-packages (from gymnasium[box2d]) (2.3.5)\n",
            "Requirement already satisfied: pygame>=2.1.3 in /usr/local/lib/python3.10/dist-packages (from gymnasium[box2d]) (2.6.1)\n",
            "\u001b[31mERROR: Operation cancelled by user\u001b[0m\u001b[31m\n",
            "\u001b[0m"
          ]
        }
      ]
    },
    {
      "cell_type": "code",
      "source": [
        "import gym\n",
        "import numpy as np\n",
        "import random\n",
        "import time\n",
        "from IPython.display import clear_output\n",
        "import matplotlib.pyplot as plt\n",
        "import os\n",
        "print(gym.__version__)"
      ],
      "metadata": {
        "colab": {
          "base_uri": "https://localhost:8080/"
        },
        "id": "-vUdZG-M9DSY",
        "outputId": "c59ae06f-4cc7-4412-e331-43b10cd3908f"
      },
      "execution_count": null,
      "outputs": [
        {
          "output_type": "stream",
          "name": "stdout",
          "text": [
            "0.25.2\n"
          ]
        }
      ]
    },
    {
      "cell_type": "code",
      "source": [
        "# Alternate function inspired from source\n",
        "def print_frames(frame, timestamp):\n",
        "    if isinstance(frame['frame'], np.ndarray):\n",
        "        # Render the RGB array as an image\n",
        "        plt.imshow(frame['frame'])\n",
        "        plt.title(\"State: %d\\nAction: %s\\nReward: %d\\nEpisodes: %d\" %\n",
        "                  (frame['state'], frame['action'], frame['reward'], frame['episodes']))\n",
        "        plt.axis('off')\n",
        "        clear_output(wait=True)\n",
        "        display(plt.gcf())\n",
        "        plt.clf()\n",
        "\n",
        "    time.sleep(timestamp)"
      ],
      "metadata": {
        "id": "oC9kEgatUEOw"
      },
      "execution_count": null,
      "outputs": []
    },
    {
      "cell_type": "code",
      "source": [
        "#code for readability: Translates the action number into an actual direction.\n",
        "def action_language(action):\n",
        "    if action == 0:\n",
        "        return \"Down\"\n",
        "    elif action == 1:\n",
        "        return \"Up\"\n",
        "    elif action == 2:\n",
        "        return \"Left\"\n",
        "    elif action == 3:\n",
        "        return \"Right\"\n",
        "    elif action == 4:\n",
        "        return \"Pickup\"\n",
        "    elif action == 5:\n",
        "        return \"Dropoff\"\n",
        "    else:\n",
        "        return \"How did you get here???\""
      ],
      "metadata": {
        "id": "5uP6o7lDZ1-0"
      },
      "execution_count": null,
      "outputs": []
    },
    {
      "cell_type": "code",
      "source": [
        "env = gym.make(\"Taxi-v3\", render_mode=\"ansi\")\n",
        "Q = np.zeros((env.observation_space.n, env.action_space.n))\n",
        "\n",
        "def choose_action(state, epsilon):\n",
        "    if np.random.random() < epsilon:\n",
        "        return env.action_space.sample()\n",
        "    else:\n",
        "        return np.argmax(Q[state, :])\n",
        "def update_q_table(Q, state, action, reward, next_state, alpha, gamma):\n",
        "  best_next_action = np.argmax(Q[next_state, :])\n",
        "  td_target = reward + gamma * Q[next_state, best_next_action]\n",
        "  Q[state, action] += alpha * (td_target - Q[state, action])\n",
        "\n",
        "def q_learning(env, gamma, alpha, epsilon, num_episodes, epsilon_decay):\n",
        "  for i in range(num_episodes):\n",
        "    state = env.reset()\n",
        "    done = False\n",
        "    while not done:\n",
        "      action = choose_action(state, epsilon)\n",
        "      next_state, reward, done, _ = env.step(action)\n",
        "      update_q_table(Q, state, action, reward, next_state, alpha, gamma)\n",
        "      clear_output(wait=True)\n",
        "      state = next_state\n",
        "      if epsilon_decay > 0.0:\n",
        "            epsilon = max(epsilon * epsilon_decay, 0.01)\n",
        "    print(f\"Episode: {i} / {num_episodes}, epsilon: {epsilon}\")\n",
        "  return Q"
      ],
      "metadata": {
        "id": "F-Pd6OqTFdLh"
      },
      "execution_count": null,
      "outputs": []
    },
    {
      "cell_type": "code",
      "source": [
        "Q = q_learning(env, gamma=0.9, alpha=0.1, epsilon=0.1, num_episodes=100, epsilon_decay=0.9995)\n",
        "\n",
        "print(f\"Q-table:\\n{Q}\")\n",
        "\n",
        "#import gym is outdated, and has version 0.25.2. import gymnasium as gym is more up to date."
      ],
      "metadata": {
        "id": "lUcdM-a9qnxO"
      },
      "execution_count": null,
      "outputs": []
    },
    {
      "cell_type": "markdown",
      "source": [
        "## Q-Learning, with updated gymnasium\n",
        "\n",
        "This is the final segment"
      ],
      "metadata": {
        "id": "KKdkWqjP_lTl"
      }
    },
    {
      "cell_type": "code",
      "source": [
        "!pip install gymnasium\n",
        "!pip install swig\n",
        "!pip install \"gymnasium[box2d]\""
      ],
      "metadata": {
        "id": "_WdTqCf7_pyz",
        "colab": {
          "base_uri": "https://localhost:8080/"
        },
        "outputId": "7124bc94-a674-49b6-8c48-b9ea772286c5"
      },
      "execution_count": 1,
      "outputs": [
        {
          "output_type": "stream",
          "name": "stdout",
          "text": [
            "Collecting gymnasium\n",
            "  Downloading gymnasium-1.0.0-py3-none-any.whl.metadata (9.5 kB)\n",
            "Requirement already satisfied: numpy>=1.21.0 in /usr/local/lib/python3.10/dist-packages (from gymnasium) (1.26.4)\n",
            "Requirement already satisfied: cloudpickle>=1.2.0 in /usr/local/lib/python3.10/dist-packages (from gymnasium) (3.1.0)\n",
            "Requirement already satisfied: typing-extensions>=4.3.0 in /usr/local/lib/python3.10/dist-packages (from gymnasium) (4.12.2)\n",
            "Collecting farama-notifications>=0.0.1 (from gymnasium)\n",
            "  Downloading Farama_Notifications-0.0.4-py3-none-any.whl.metadata (558 bytes)\n",
            "Downloading gymnasium-1.0.0-py3-none-any.whl (958 kB)\n",
            "\u001b[2K   \u001b[90m━━━━━━━━━━━━━━━━━━━━━━━━━━━━━━━━━━━━━━━━\u001b[0m \u001b[32m958.1/958.1 kB\u001b[0m \u001b[31m10.5 MB/s\u001b[0m eta \u001b[36m0:00:00\u001b[0m\n",
            "\u001b[?25hDownloading Farama_Notifications-0.0.4-py3-none-any.whl (2.5 kB)\n",
            "Installing collected packages: farama-notifications, gymnasium\n",
            "Successfully installed farama-notifications-0.0.4 gymnasium-1.0.0\n",
            "Collecting swig\n",
            "  Downloading swig-4.3.0-py2.py3-none-manylinux_2_5_x86_64.manylinux1_x86_64.whl.metadata (3.5 kB)\n",
            "Downloading swig-4.3.0-py2.py3-none-manylinux_2_5_x86_64.manylinux1_x86_64.whl (1.9 MB)\n",
            "\u001b[2K   \u001b[90m━━━━━━━━━━━━━━━━━━━━━━━━━━━━━━━━━━━━━━━━\u001b[0m \u001b[32m1.9/1.9 MB\u001b[0m \u001b[31m17.7 MB/s\u001b[0m eta \u001b[36m0:00:00\u001b[0m\n",
            "\u001b[?25hInstalling collected packages: swig\n",
            "Successfully installed swig-4.3.0\n",
            "Requirement already satisfied: gymnasium[box2d] in /usr/local/lib/python3.10/dist-packages (1.0.0)\n",
            "Requirement already satisfied: numpy>=1.21.0 in /usr/local/lib/python3.10/dist-packages (from gymnasium[box2d]) (1.26.4)\n",
            "Requirement already satisfied: cloudpickle>=1.2.0 in /usr/local/lib/python3.10/dist-packages (from gymnasium[box2d]) (3.1.0)\n",
            "Requirement already satisfied: typing-extensions>=4.3.0 in /usr/local/lib/python3.10/dist-packages (from gymnasium[box2d]) (4.12.2)\n",
            "Requirement already satisfied: farama-notifications>=0.0.1 in /usr/local/lib/python3.10/dist-packages (from gymnasium[box2d]) (0.0.4)\n",
            "Collecting box2d-py==2.3.5 (from gymnasium[box2d])\n",
            "  Downloading box2d-py-2.3.5.tar.gz (374 kB)\n",
            "\u001b[2K     \u001b[90m━━━━━━━━━━━━━━━━━━━━━━━━━━━━━━━━━━━━━━━━\u001b[0m \u001b[32m374.4/374.4 kB\u001b[0m \u001b[31m6.2 MB/s\u001b[0m eta \u001b[36m0:00:00\u001b[0m\n",
            "\u001b[?25h  Preparing metadata (setup.py) ... \u001b[?25l\u001b[?25hdone\n",
            "Requirement already satisfied: pygame>=2.1.3 in /usr/local/lib/python3.10/dist-packages (from gymnasium[box2d]) (2.6.1)\n",
            "Requirement already satisfied: swig==4.* in /usr/local/lib/python3.10/dist-packages (from gymnasium[box2d]) (4.3.0)\n",
            "Building wheels for collected packages: box2d-py\n",
            "  Building wheel for box2d-py (setup.py) ... \u001b[?25l\u001b[?25hdone\n",
            "  Created wheel for box2d-py: filename=box2d_py-2.3.5-cp310-cp310-linux_x86_64.whl size=2376425 sha256=17e02549536e0d54ca89d34b0f444e92e2c7c01641e0ae65e6bcaddd37fb9f5e\n",
            "  Stored in directory: /root/.cache/pip/wheels/db/8f/6a/eaaadf056fba10a98d986f6dce954e6201ba3126926fc5ad9e\n",
            "Successfully built box2d-py\n",
            "Installing collected packages: box2d-py\n",
            "Successfully installed box2d-py-2.3.5\n"
          ]
        }
      ]
    },
    {
      "cell_type": "code",
      "source": [
        "import gymnasium as gym\n",
        "import numpy as np\n",
        "from IPython.display import clear_output\n",
        "import random\n",
        "import time\n",
        "import matplotlib.pyplot as plt\n",
        "from os import system\n",
        "\n",
        "print(gym.__version__)"
      ],
      "metadata": {
        "id": "_CUp_hD39mvO",
        "colab": {
          "base_uri": "https://localhost:8080/"
        },
        "outputId": "cd14e1c8-67de-428f-a062-eb87eaecbc99"
      },
      "execution_count": 2,
      "outputs": [
        {
          "output_type": "stream",
          "name": "stdout",
          "text": [
            "1.0.0\n"
          ]
        }
      ]
    },
    {
      "cell_type": "code",
      "source": [
        "# Print every frames during the training process\n",
        "# This function was taken from another source and edited for printing purposes.\n",
        "def print_frames(frame, timestamp):\n",
        "    if isinstance(frame['frame'], np.ndarray):\n",
        "        # Render the RGB array as an image\n",
        "        plt.imshow(frame['frame'])\n",
        "        plt.title(\"State: %d\\nAction: %s\\nReward: %d\\nEpisodes: %d\" % (frame['state'], frame['action'], frame['reward'], frame['episodes']))\n",
        "        plt.axis('off')\n",
        "        clear_output(wait=True)\n",
        "        display(plt.gcf())\n",
        "        plt.clf()\n",
        "    else:\n",
        "        print(\"Render returned non-RGB data.\")\n",
        "\n",
        "    time.sleep(timestamp)"
      ],
      "metadata": {
        "id": "9ET9mbvi_vUV"
      },
      "execution_count": 3,
      "outputs": []
    },
    {
      "cell_type": "code",
      "source": [
        "#function for readability: Translates the action number into an actual direction.\n",
        "def action_language(action):\n",
        "    if action == 0:\n",
        "        return \"Down\"\n",
        "    elif action == 1:\n",
        "        return \"Up\"\n",
        "    elif action == 2:\n",
        "        return \"Right\"\n",
        "    elif action == 3:\n",
        "        return \"Left\"\n",
        "    elif action == 4:\n",
        "        return \"Pickup\"\n",
        "    elif action == 5:\n",
        "        return \"Dropoff\"\n",
        "    else:\n",
        "        return \"How did you get here???\""
      ],
      "metadata": {
        "id": "FACwlIUoZ52E"
      },
      "execution_count": 4,
      "outputs": []
    },
    {
      "cell_type": "code",
      "source": [
        "env = gym.make(\"Taxi-v3\", render_mode=\"rgb_array\")\n",
        "Q = np.zeros((env.observation_space.n, env.action_space.n)) #the q table\n",
        "\n",
        "def choose_action(state, epsilon):\n",
        "    if np.random.random() < epsilon:\n",
        "        return env.action_space.sample()\n",
        "    else:\n",
        "        return np.argmax(Q[state, :])\n",
        "\n",
        "def update_q_table(Q, state, action, reward, next_state, alpha, gamma):\n",
        "  best_next_action = np.argmax(Q[next_state, :]) #oldvalue\n",
        "  td_target = reward + gamma * Q[next_state, best_next_action] #next_max\n",
        "  Q[state, action] += alpha * (td_target - Q[state, action]) #qtable update\n",
        "\n",
        "def q_learning(gamma, alpha, epsilon, num_episodes, epsilon_decay): #the training\n",
        "    rewards = []  #store rewards for plotting\n",
        "    for i in range(num_episodes):\n",
        "        state, _ = env.reset()\n",
        "        done = False\n",
        "        total_reward = 0\n",
        "        while not done:\n",
        "            action = choose_action(state, epsilon)\n",
        "            next_state, reward, done, truncated, _ = env.step(action)\n",
        "            update_q_table(Q, state, action, reward, next_state, alpha, gamma)\n",
        "            state = next_state\n",
        "            total_reward += reward\n",
        "            if done or truncated:\n",
        "                break\n",
        "        rewards.append(total_reward)  # Log the total reward for this episode\n",
        "        #this part taken from alternate source, however is only used to make\n",
        "        #printing faster\n",
        "        if i % 100 == 0:\n",
        "            clear_output(wait=True)\n",
        "            print(f\"Episode: {i} / {num_episodes}, epsilon: {epsilon}\")\n",
        "        epsilon = max(epsilon * epsilon_decay, 0.01)  # Prevent epsilon from becoming too small\n",
        "\n",
        "    return Q, rewards  # Return the reward list for plotting\n",
        "\n",
        "\n",
        "def q_test(Q, num_episodes):\n",
        "  for i in range(10):\n",
        "    state, _ = env.reset()\n",
        "    done = False\n",
        "    while not done:\n",
        "      action = np.argmax(Q[state])\n",
        "      next_state, reward, done, truncated, _ = env.step(action)\n",
        "      done = done or truncated\n",
        "      state = next_state\n",
        "      system('clear')\n",
        "      frame = {\n",
        "        'frame': env.render(),\n",
        "        'state': state,\n",
        "        'action': action_language(action),\n",
        "        'reward': reward,\n",
        "        'episodes': i\n",
        "      }\n",
        "      print_frames(frame, 0.1)"
      ],
      "metadata": {
        "id": "t7XZIOIi_yB5"
      },
      "execution_count": 5,
      "outputs": []
    },
    {
      "cell_type": "markdown",
      "source": [
        "### What is my goal here with editing hyperparameters?\n",
        "\n",
        "Goal: Get a satisfactory reward plot with a smaller episode size."
      ],
      "metadata": {
        "id": "27gz6Kf1MsUd"
      }
    },
    {
      "cell_type": "code",
      "source": [
        "# initial values\n",
        "alpha = 0.9   #learning rate\n",
        "gamma = 0.95  #discount factor\n",
        "epsilon = 0.9 #exploration rate, randomness\n",
        "epsilon_decay = 0.9995\n",
        "min_epsilon = 0.01\n",
        "num_episodes = 10000\n",
        "test_episodes = 5\n",
        "\n",
        "#result: passable, no errors\n",
        "#problem: big episode value"
      ],
      "metadata": {
        "id": "YN0Fc7ToczfP"
      },
      "execution_count": 6,
      "outputs": []
    },
    {
      "cell_type": "code",
      "source": [
        "#value batch 2, miniscule episode count\n",
        "alpha = 0.9   #learning rate\n",
        "gamma = 0.95  #discount factor\n",
        "epsilon = 0.9 #exploration rate, randomness\n",
        "epsilon_decay = 0.9995\n",
        "min_epsilon = 0.01\n",
        "num_episodes = 1000\n",
        "test_episodes = 5\n",
        "\n",
        "#result: terrible outcomes, bad reward states, strange taxi paths\n"
      ],
      "metadata": {
        "id": "KE_0xEpyc3On"
      },
      "execution_count": null,
      "outputs": []
    },
    {
      "cell_type": "code",
      "source": [
        "#value batch 3, poor epsilon value(exploration)\n",
        "alpha = 0.9   #learning rate\n",
        "gamma = 0.95  #discount factor\n",
        "epsilon = 0.01 #exploration rate, randomness\n",
        "epsilon_decay = 0.9995\n",
        "min_epsilon = 0.01\n",
        "num_episodes = 1000\n",
        "test_episodes = 5\n"
      ],
      "metadata": {
        "id": "RYKToLWMC39i"
      },
      "execution_count": null,
      "outputs": []
    },
    {
      "cell_type": "code",
      "source": [
        "#value batch 4, similar to batch 1, min epsilon increased. back to exploration\n",
        "alpha = 0.9   #learning rate\n",
        "gamma = 0.95  #discount factor\n",
        "epsilon = 0.9 #exploration rate, randomness\n",
        "epsilon_decay = 0.9\n",
        "min_epsilon = 0.05\n",
        "num_episodes = 1000\n",
        "test_episodes = 5\n"
      ],
      "metadata": {
        "id": "HuWWMXESg61y"
      },
      "execution_count": null,
      "outputs": []
    },
    {
      "cell_type": "code",
      "source": [
        "#value batch 5, similar to batch 4, episode size significantly decreased\n",
        "alpha = 0.9   #learning rate\n",
        "gamma = 0.95  #discount factor\n",
        "epsilon = 0.9 #exploration rate, randomness\n",
        "epsilon_decay = 0.9\n",
        "min_epsilon = 0.05\n",
        "num_episodes = 100\n",
        "test_episodes = 5\n"
      ],
      "metadata": {
        "id": "hUWF-HwkkNx6"
      },
      "execution_count": null,
      "outputs": []
    },
    {
      "cell_type": "code",
      "source": [
        "#value batch 6, ep_decay back to 0.995 (really slow), min epsilon increased\n",
        "alpha = 0.9   #learning rate\n",
        "gamma = 0.95  #discount factor\n",
        "epsilon = 0.9 #exploration rate, randomness\n",
        "epsilon_decay = 0.9995\n",
        "min_epsilon = 0.01\n",
        "num_episodes = 1000\n",
        "test_episodes = 5"
      ],
      "metadata": {
        "id": "uZJo8pbLlS5z"
      },
      "execution_count": null,
      "outputs": []
    },
    {
      "cell_type": "code",
      "source": [
        "#value batch 6, similar to batch 1 with a smaller epsilon_decay/episode value\n",
        "alpha = 0.9   #learning rate\n",
        "gamma = 0.95  #discount factor\n",
        "epsilon = 0.9 #exploration rate, randomness\n",
        "epsilon_decay = 0.995\n",
        "min_epsilon = 0.01\n",
        "num_episodes = 1000\n",
        "test_episodes = 5"
      ],
      "metadata": {
        "id": "9qWZp6dprMX-"
      },
      "execution_count": null,
      "outputs": []
    },
    {
      "cell_type": "markdown",
      "source": [
        "### Save The Q table and an array of all rewards"
      ],
      "metadata": {
        "id": "QGoUcZME2CeW"
      }
    },
    {
      "cell_type": "code",
      "source": [
        "Q, rewards = q_learning(gamma, alpha, epsilon, num_episodes, epsilon_decay) #this line trains the Q table"
      ],
      "metadata": {
        "id": "uwnUKILyATQ5",
        "colab": {
          "base_uri": "https://localhost:8080/"
        },
        "outputId": "def7ef60-7ebe-4011-89de-987ca175b26d"
      },
      "execution_count": 7,
      "outputs": [
        {
          "output_type": "stream",
          "name": "stdout",
          "text": [
            "Episode: 9900 / 10000, epsilon: 0.01\n"
          ]
        }
      ]
    },
    {
      "cell_type": "markdown",
      "source": [
        "### Want to see the taxi in action?\n",
        "\n",
        "Run this block. Not necessary, this is just to output the TaxiDriver display.\n"
      ],
      "metadata": {
        "id": "KDdf8WA93S6N"
      }
    },
    {
      "cell_type": "code",
      "source": [
        "q_test(Q, test_episodes) #this line tests the Q table, and prints the taxi display\n",
        "plt.close()\n",
        "env.close()"
      ],
      "metadata": {
        "id": "qhO3dmUmLU3l"
      },
      "execution_count": null,
      "outputs": []
    },
    {
      "cell_type": "markdown",
      "source": [
        "### This code block prints a madplotlib plot graph."
      ],
      "metadata": {
        "id": "eTBSC7-F3pzO"
      }
    },
    {
      "cell_type": "code",
      "source": [
        "#plot learning curve with rewards array\n",
        "plt.plot(rewards, label='Reward Count per Episode')\n",
        "plt.xlabel('Episodes')\n",
        "plt.ylabel('Sum of Rewards')\n",
        "plt.title('Learning Curve: Q-Learning on Taxi-v3')\n",
        "plt.legend()\n",
        "plt.grid()\n",
        "plt.show()"
      ],
      "metadata": {
        "colab": {
          "base_uri": "https://localhost:8080/",
          "height": 472
        },
        "id": "Hdx8TX3BFdDF",
        "outputId": "a10f7506-dd80-43f8-e09a-f24c0f094976"
      },
      "execution_count": 8,
      "outputs": [
        {
          "output_type": "display_data",
          "data": {
            "text/plain": [
              "<Figure size 640x480 with 1 Axes>"
            ],
            "image/png": "[encoded data removed]"
          },
          "metadata": {}
        }
      ]
    },
    {
      "cell_type": "markdown",
      "source": [
        "### Hyperparameter notes:\n",
        "\n",
        "***Batch one, 10,000 episodes:*** It is hard to see, but notice the change around the 5000 episode mark. We can assume that our Reward values are mostly positive now, and it stays around there up to the 10000s.\n",
        "\n",
        "***Batch two, 1000 episodes:*** Most results are negative, so our current hyperparameters are still terrible. Will change the exploration value to 0.1.\n",
        "\n",
        "***Batch three, 0.1 epsilon value:*** With minimal exploration, most of our results are positive. However, our graph looks quite plain, and somewhat random, ironically. Also notice that the max reward is 15. Expanding our exploration may help in keeping that number high.\n",
        "\n",
        "***Batch four, smaller decay:*** Converges to positive values quite fast, way before reaching 200 episodes.\n",
        "\n",
        "***Batch five, 100 episodes:*** The graph is starting to look quite weak. However, we start seeing positive values after 40 episodes, a small dip around 80-85 eposides, then back to positive values. Can it be said that we are converging to a local optima? It's not like we can get anything extraordinarily higher than \"20\" since the episodes end when the taxi successfully drops off a passenger at a hotel (which is all we want).\n",
        "\n",
        "***Batch six, more epsilon changes:*** We get a really ugly graph, looks like a huge smudge. This shows us that it is mostly the decay factor that affects this graph. We can say the number of episodes also affects this, because these are the exact same values as batch 1 minus the maximum number of episodes. 0.9995 is in batch one, however the episode value is 10,000. with 1000 episodes, the epsilon value never reaches \"0.1\".\n",
        "\n",
        "***Batch seven, 1000 episodes, decay of 0.995:*** By removing one \"nine\" from the episode decay, we were able to make the graph much more readable, and now the graph converges to a certain point way later within the graph. **Although this batch gives us a suboptimal graph, this batch of parameters gives us the best looking graph,** since we can see how our agent progressively begins to learn what actions to take over time by exploring enough times early, and then converging after around 80% of the way to the maximum amount of episodes.\n",
        "\n",
        "---\n",
        "\n",
        "It seems like in the case for TaxiDriver, exploitation may be best? Given that the rewards don't seem to improve even with a bigger episode size.\n",
        "\n",
        "\n",
        "Why does the plot graph end up looking fuzzy after we get good results? Remember that the taxi and the passenger spawn in different locations each episode. The really high results could be situations where the taxi spawns next to or near the passenger, and the passenger's hotel is the closest possible location to be in. Worst case scenario, the taxi spawns near a hotel in a corner, has to go to a passenger on the other side, and transport them back to that same hospital (resulting in a longer trip, and thus a smaller reward)."
      ],
      "metadata": {
        "id": "yY5LpWRYNLS3"
      }
    }
  ]
}